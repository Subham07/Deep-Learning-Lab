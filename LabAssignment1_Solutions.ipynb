{
  "nbformat": 4,
  "nbformat_minor": 0,
  "metadata": {
    "colab": {
      "name": "LabAssignment1_Solutions.ipynb",
      "provenance": [],
      "collapsed_sections": [],
      "toc_visible": true
    },
    "kernelspec": {
      "name": "python3",
      "display_name": "Python 3"
    }
  },
  "cells": [
    {
      "cell_type": "markdown",
      "metadata": {
        "id": "FmI3yB72Omdo",
        "colab_type": "text"
      },
      "source": [
        "# Question 1"
      ]
    },
    {
      "cell_type": "code",
      "metadata": {
        "id": "1vndlUQX-oOZ",
        "colab_type": "code",
        "colab": {
          "base_uri": "https://localhost:8080/",
          "height": 1000
        },
        "outputId": "bfaa8788-13b7-43c9-cffd-b3b24583a2bd"
      },
      "source": [
        "import tensorflow as tf\n",
        "import math as m\n",
        "pi=tf.dtypes.cast(tf.constant(m.pi),dtype=tf.float64)\n",
        "\n",
        "x=pi/4;\n",
        "print(\"answer: \",f(x))"
      ],
      "execution_count": null,
      "outputs": [
        {
          "output_type": "stream",
          "text": [
            "tf.Tensor(0.0, shape=(), dtype=float64)\n",
            "tf.Tensor(-1.7484556000744967e-08, shape=(), dtype=float64)\n",
            "tf.Tensor(-1.7484556000744967e-08, shape=(), dtype=float64)\n",
            "tf.Tensor(-0.11764705882352897, shape=(), dtype=float64)\n",
            "tf.Tensor(-0.11764707630808496, shape=(), dtype=float64)\n",
            "tf.Tensor(7.088333513815509e-09, shape=(), dtype=float64)\n",
            "tf.Tensor(-0.11764706921975145, shape=(), dtype=float64)\n",
            "tf.Tensor(0.0307692307692303, shape=(), dtype=float64)\n",
            "tf.Tensor(-0.08687783845052115, shape=(), dtype=float64)\n",
            "tf.Tensor(-4.327860396223969e-09, shape=(), dtype=float64)\n",
            "tf.Tensor(-0.08687784277838154, shape=(), dtype=float64)\n",
            "tf.Tensor(-0.013793103448275387, shape=(), dtype=float64)\n",
            "tf.Tensor(-0.10067094622665693, shape=(), dtype=float64)\n",
            "tf.Tensor(3.1063931981018495e-09, shape=(), dtype=float64)\n",
            "tf.Tensor(-0.10067094312026373, shape=(), dtype=float64)\n",
            "tf.Tensor(0.007782101167314699, shape=(), dtype=float64)\n",
            "tf.Tensor(-0.09288884195294903, shape=(), dtype=float64)\n",
            "tf.Tensor(-2.420938523180011e-09, shape=(), dtype=float64)\n",
            "tf.Tensor(-0.09288884437388754, shape=(), dtype=float64)\n",
            "tf.Tensor(-0.004987531172069349, shape=(), dtype=float64)\n",
            "tf.Tensor(-0.09787637554595689, shape=(), dtype=float64)\n",
            "tf.Tensor(1.9827847011153326e-09, shape=(), dtype=float64)\n",
            "tf.Tensor(-0.09787637356317219, shape=(), dtype=float64)\n",
            "tf.Tensor(0.003466204506065381, shape=(), dtype=float64)\n",
            "tf.Tensor(-0.09441016905710681, shape=(), dtype=float64)\n",
            "tf.Tensor(-1.678723988254597e-09, shape=(), dtype=float64)\n",
            "tf.Tensor(-0.0944101707358308, shape=(), dtype=float64)\n",
            "tf.Tensor(-0.0025477707006364655, shape=(), dtype=float64)\n",
            "tf.Tensor(-0.09695794143646727, shape=(), dtype=float64)\n",
            "tf.Tensor(1.455429189851031e-09, shape=(), dtype=float64)\n",
            "tf.Tensor(-0.09695793998103808, shape=(), dtype=float64)\n",
            "tf.Tensor(0.0019512195121946447, shape=(), dtype=float64)\n",
            "tf.Tensor(-0.09500672046884344, shape=(), dtype=float64)\n",
            "tf.Tensor(-1.2845179430105323e-09, shape=(), dtype=float64)\n",
            "tf.Tensor(-0.09500672175336138, shape=(), dtype=float64)\n",
            "tf.Tensor(-0.001542020046260124, shape=(), dtype=float64)\n",
            "tf.Tensor(-0.0965487417996215, shape=(), dtype=float64)\n",
            "tf.Tensor(1.1495036817097448e-09, shape=(), dtype=float64)\n",
            "tf.Tensor(-0.09654874065011781, shape=(), dtype=float64)\n",
            "tf.Tensor(0.0012492192379757873, shape=(), dtype=float64)\n",
            "tf.Tensor(-0.09529952141214203, shape=(), dtype=float64)\n",
            "tf.Tensor(-1.0401577224237757e-09, shape=(), dtype=float64)\n",
            "tf.Tensor(-0.09529952245229975, shape=(), dtype=float64)\n",
            "tf.Tensor(-0.001032524522456931, shape=(), dtype=float64)\n",
            "tf.Tensor(-0.09633204697475668, shape=(), dtype=float64)\n",
            "tf.Tensor(9.497987435452683e-10, shape=(), dtype=float64)\n",
            "tf.Tensor(-0.09633204602495794, shape=(), dtype=float64)\n",
            "tf.Tensor(0.000867678958784772, shape=(), dtype=float64)\n",
            "tf.Tensor(-0.09546436706617317, shape=(), dtype=float64)\n",
            "tf.Tensor(-8.738782487375795e-10, shape=(), dtype=float64)\n",
            "tf.Tensor(-0.09546436794005142, shape=(), dtype=float64)\n",
            "tf.Tensor(-0.0007393715341954559, shape=(), dtype=float64)\n",
            "tf.Tensor(-0.09620373947424687, shape=(), dtype=float64)\n",
            "tf.Tensor(8.091926842989452e-10, shape=(), dtype=float64)\n",
            "tf.Tensor(-0.09620373866505419, shape=(), dtype=float64)\n",
            "tf.Tensor(0.0006375518010833605, shape=(), dtype=float64)\n",
            "tf.Tensor(-0.09556618686397082, shape=(), dtype=float64)\n",
            "tf.Tensor(-7.534206894821223e-10, shape=(), dtype=float64)\n",
            "tf.Tensor(-0.09556618761739151, shape=(), dtype=float64)\n",
            "tf.Tensor(-0.0005554012774224606, shape=(), dtype=float64)\n",
            "tf.Tensor(-0.09612158889481397, shape=(), dtype=float64)\n",
            "tf.Tensor(7.048390585473709e-10, shape=(), dtype=float64)\n",
            "tf.Tensor(-0.0961215881899749, shape=(), dtype=float64)\n",
            "tf.Tensor(0.00048816206980669845, shape=(), dtype=float64)\n",
            "tf.Tensor(-0.0956334261201682, shape=(), dtype=float64)\n",
            "tf.Tensor(-6.62141781069984e-10, shape=(), dtype=float64)\n",
            "tf.Tensor(-0.09563342678230999, shape=(), dtype=float64)\n",
            "tf.Tensor(-0.0004324324324319549, shape=(), dtype=float64)\n",
            "tf.Tensor(-0.09606585921474195, shape=(), dtype=float64)\n",
            "tf.Tensor(6.243210161455165e-10, shape=(), dtype=float64)\n",
            "tf.Tensor(-0.09606585859042094, shape=(), dtype=float64)\n",
            "tf.Tensor(0.0003857280617160123, shape=(), dtype=float64)\n",
            "tf.Tensor(-0.09568013052870493, shape=(), dtype=float64)\n",
            "tf.Tensor(-5.905866094826383e-10, shape=(), dtype=float64)\n",
            "tf.Tensor(-0.09568013111929154, shape=(), dtype=float64)\n",
            "tf.Tensor(-0.00034620045006010747, shape=(), dtype=float64)\n",
            "tf.Tensor(-0.09602633156935164, shape=(), dtype=float64)\n",
            "tf.Tensor(5.603103402043743e-10, shape=(), dtype=float64)\n",
            "tf.Tensor(-0.0960263310090413, shape=(), dtype=float64)\n",
            "tf.Tensor(0.000312451179502725, shape=(), dtype=float64)\n",
            "tf.Tensor(-0.09571387982953858, shape=(), dtype=float64)\n",
            "tf.Tensor(-5.329864654499331e-10, shape=(), dtype=float64)\n",
            "tf.Tensor(-0.09571388036252504, shape=(), dtype=float64)\n",
            "tf.Tensor(-0.000283406546690751, shape=(), dtype=float64)\n",
            "tf.Tensor(-0.09599728690921579, shape=(), dtype=float64)\n",
            "tf.Tensor(5.082032635065507e-10, shape=(), dtype=float64)\n",
            "tf.Tensor(-0.09599728640101253, shape=(), dtype=float64)\n",
            "tf.Tensor(0.0002582311168491028, shape=(), dtype=float64)\n",
            "tf.Tensor(-0.09573905528416343, shape=(), dtype=float64)\n",
            "tf.Tensor(-4.856221577786794e-10, shape=(), dtype=float64)\n",
            "tf.Tensor(-0.09573905576978559, shape=(), dtype=float64)\n",
            "tf.Tensor(-0.0002362669816888313, shape=(), dtype=float64)\n",
            "tf.Tensor(-0.09597532275147441, shape=(), dtype=float64)\n",
            "tf.Tensor(4.649621659128865e-10, shape=(), dtype=float64)\n",
            "tf.Tensor(-0.09597532228651225, shape=(), dtype=float64)\n",
            "tf.Tensor(0.0002169903439292175, shape=(), dtype=float64)\n",
            "tf.Tensor(-0.09575833194258303, shape=(), dtype=float64)\n",
            "tf.Tensor(-4.4598815410507467e-10, shape=(), dtype=float64)\n",
            "tf.Tensor(-0.09575833238857118, shape=(), dtype=float64)\n",
            "tf.Tensor(-0.0001999800019993224, shape=(), dtype=float64)\n",
            "answer:  tf.Tensor(0.6977087119429298, shape=(), dtype=float64)\n"
          ],
          "name": "stdout"
        }
      ]
    },
    {
      "cell_type": "code",
      "metadata": {
        "id": "yJRm3s7f_Bnj",
        "colab_type": "code",
        "colab": {}
      },
      "source": [
        "#upto 20 terms\n",
        "def f(x):\n",
        "  a = tf.dtypes.cast(tf.Variable(0),dtype=tf.float64)\n",
        "  for n in range(2,21,2):\n",
        "    b=tf.multiply((2 / tf.add(tf.math.pow(n,2),1)),tf.dtypes.cast(tf.math.cos(n*x),dtype=tf.float64))\n",
        "    print(tf.dtypes.cast(a,dtype=tf.float64))\n",
        "    print(b)\n",
        "    a=tf.add(a,b)\n",
        "  ans=(2/pi)*(1-a)\n",
        "  return ans"
      ],
      "execution_count": null,
      "outputs": []
    },
    {
      "cell_type": "code",
      "metadata": {
        "id": "UszCYWuUEto-",
        "colab_type": "code",
        "colab": {}
      },
      "source": [
        "#upto 100 terms\n",
        "def f(x):\n",
        "  a = tf.dtypes.cast(tf.Variable(0),dtype=tf.float64)\n",
        "  for n in range(2,101,2):\n",
        "    b=tf.multiply((2 / tf.add(tf.math.pow(n,2),1)),tf.dtypes.cast(tf.math.cos(n*x),dtype=tf.float64))\n",
        "    print(tf.dtypes.cast(a,dtype=tf.float64))\n",
        "    print(b)\n",
        "    a=tf.add(a,b)\n",
        "  ans=(2/pi)*(1-a)\n",
        "  return ans"
      ],
      "execution_count": null,
      "outputs": []
    },
    {
      "cell_type": "markdown",
      "metadata": {
        "id": "K-Av3Ad5Oq-n",
        "colab_type": "text"
      },
      "source": [
        "# Question 2"
      ]
    },
    {
      "cell_type": "code",
      "metadata": {
        "id": "qQAT7Ts9OswF",
        "colab_type": "code",
        "colab": {
          "base_uri": "https://localhost:8080/",
          "height": 187
        },
        "outputId": "a367f644-5dfb-4989-cd51-28bc6a143680"
      },
      "source": [
        "import tensorflow as tf\n",
        "import math as m\n",
        "pi=tf.dtypes.cast(tf.constant(m.pi),dtype=tf.float64)\n",
        "\n",
        "x=pi/4;\n",
        "print(\"answer: \",f(x))"
      ],
      "execution_count": null,
      "outputs": [
        {
          "output_type": "stream",
          "text": [
            "tf.Tensor(0.6915748453005346, shape=(), dtype=float64)\n",
            "tf.Tensor(0.7074291913090994, shape=(), dtype=float64)\n",
            "tf.Tensor(0.7071031993677427, shape=(), dtype=float64)\n",
            "tf.Tensor(0.7071067902289907, shape=(), dtype=float64)\n",
            "tf.Tensor(0.7071067656176143, shape=(), dtype=float64)\n",
            "tf.Tensor(0.707106765732626, shape=(), dtype=float64)\n",
            "tf.Tensor(0.7071067657322362, shape=(), dtype=float64)\n",
            "tf.Tensor(0.7071067657322372, shape=(), dtype=float64)\n",
            "tf.Tensor(0.7071067657322372, shape=(), dtype=float64)\n",
            "answer:  tf.Tensor(0.7071067657322372, shape=(), dtype=float64)\n"
          ],
          "name": "stdout"
        }
      ]
    },
    {
      "cell_type": "code",
      "metadata": {
        "id": "aEQRzVtyP0Zu",
        "colab_type": "code",
        "colab": {}
      },
      "source": [
        "#upto 10 terms\n",
        "def f(x):\n",
        "  a = tf.dtypes.cast(tf.Variable(1),dtype=tf.float64)\n",
        "  for n in range(1,10):\n",
        "    if(n%2!=0):\n",
        "      b=-tf.math.pow(x,2*n) / fact(2*n)\n",
        "    else:\n",
        "      b=tf.math.pow(x,2*n) / fact(2*n)\n",
        "    a=tf.add(a,b)\n",
        "    print(a)\n",
        "  return a"
      ],
      "execution_count": null,
      "outputs": []
    },
    {
      "cell_type": "code",
      "metadata": {
        "id": "owRjzGKzQd9V",
        "colab_type": "code",
        "colab": {}
      },
      "source": [
        "def fact(x):\n",
        "  i=1;\n",
        "  fl=1;\n",
        "  for i in range(1,x+1):\n",
        "    fl=fl*i;\n",
        "  \n",
        "  return fl"
      ],
      "execution_count": null,
      "outputs": []
    },
    {
      "cell_type": "markdown",
      "metadata": {
        "id": "FWIbPqhBWJYl",
        "colab_type": "text"
      },
      "source": [
        "# Question 3"
      ]
    },
    {
      "cell_type": "code",
      "metadata": {
        "id": "aMKfcg0pWLvn",
        "colab_type": "code",
        "colab": {
          "base_uri": "https://localhost:8080/",
          "height": 204
        },
        "outputId": "ce5fabb9-70c4-4b55-bb2f-f3e6967e60b0"
      },
      "source": [
        "import tensorflow as tf\n",
        "import math as m\n",
        "x=1;\n",
        "print(\"answer: \",f(x))"
      ],
      "execution_count": null,
      "outputs": [
        {
          "output_type": "stream",
          "text": [
            "tf.Tensor(1.0, shape=(), dtype=float64)\n",
            "tf.Tensor(1.1666666666666667, shape=(), dtype=float64)\n",
            "tf.Tensor(1.2416666666666667, shape=(), dtype=float64)\n",
            "tf.Tensor(1.286309523809524, shape=(), dtype=float64)\n",
            "tf.Tensor(1.3166914682539683, shape=(), dtype=float64)\n",
            "tf.Tensor(1.3390636273448775, shape=(), dtype=float64)\n",
            "tf.Tensor(1.3564163917679544, shape=(), dtype=float64)\n",
            "tf.Tensor(1.3703812355179543, shape=(), dtype=float64)\n",
            "tf.Tensor(1.381933036414094, shape=(), dtype=float64)\n",
            "tf.Tensor(0.5027630306063544, shape=(), dtype=float64)\n",
            "answer:  tf.Tensor(0.5027630306063544, shape=(), dtype=float64)\n"
          ],
          "name": "stdout"
        }
      ]
    },
    {
      "cell_type": "code",
      "metadata": {
        "id": "kA3qWq7TWTFS",
        "colab_type": "code",
        "colab": {}
      },
      "source": [
        "#upto 10 terms\n",
        "def f(x):\n",
        "  a = tf.dtypes.cast(tf.Variable(0),dtype=tf.float64)\n",
        "  for n in range(0,10):\n",
        "    b=(fact(2*n) * tf.dtypes.cast(tf.pow(x,2*n+1),tf.float64))/(tf.dtypes.cast(tf.pow(4,n),tf.float64) * tf.dtypes.cast(tf.pow(fact(n),2),tf.float64) * (2*n+1))\n",
        "    a=tf.add(a,b)\n",
        "    print(a)\n",
        "  return a"
      ],
      "execution_count": null,
      "outputs": []
    },
    {
      "cell_type": "code",
      "metadata": {
        "id": "wvWNa3nwYy5C",
        "colab_type": "code",
        "colab": {}
      },
      "source": [
        "def fact(x):\n",
        "  i=1;\n",
        "  fl=1;\n",
        "  for i in range(1,x+1):\n",
        "    fl=fl*i;\n",
        "  \n",
        "  return fl"
      ],
      "execution_count": null,
      "outputs": []
    }
  ]
}